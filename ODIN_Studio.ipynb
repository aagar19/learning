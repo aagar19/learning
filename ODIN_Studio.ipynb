{
 "cells": [
  {
   "cell_type": "markdown",
   "metadata": {},
   "source": [
    "### Connect to mapr edge node and Import required libraries to get started ###"
   ]
  },
  {
   "cell_type": "code",
   "execution_count": 3,
   "metadata": {},
   "outputs": [
    {
     "ename": "ModuleNotFoundError",
     "evalue": "No module named 'pyspark'",
     "output_type": "error",
     "traceback": [
      "\u001b[0;31m---------------------------------------------------------------------------\u001b[0m",
      "\u001b[0;31mModuleNotFoundError\u001b[0m                       Traceback (most recent call last)",
      "Cell \u001b[0;32mIn[3], line 1\u001b[0m\n\u001b[0;32m----> 1\u001b[0m \u001b[38;5;28;01mimport\u001b[39;00m \u001b[38;5;21;01mpyspark\u001b[39;00m\n",
      "\u001b[0;31mModuleNotFoundError\u001b[0m: No module named 'pyspark'"
     ]
    }
   ],
   "source": [
    "import pyspark"
   ]
  },
  {
   "cell_type": "code",
   "execution_count": 2,
   "metadata": {},
   "outputs": [
    {
     "name": "stdout",
     "output_type": "stream",
     "text": [
      "zsh:1: /opt/homebrew/bin/pip3: bad interpreter: /opt/homebrew/opt/python@3.11/bin/python3.11: no such file or directory\n",
      "Defaulting to user installation because normal site-packages is not writeable\n",
      "Collecting pyspark\n",
      "  Downloading pyspark-3.5.0.tar.gz (316.9 MB)\n",
      "\u001b[K     |████████████████████████████████| 316.9 MB 16.8 MB/s eta 0:00:01    |█████▎                          | 52.4 MB 13.9 MB/s eta 0:00:203.1 MB/s eta 0:00:20     |██████████                      | 99.1 MB 17.4 MB/s eta 0:00:13    | 156.2 MB 10.9 MB/s eta 0:00:157.6 MB/s eta 0:00:07     |████████████████████████▉       | 246.4 MB 11.1 MB/s eta 0:00:07███████████████████████▋      | 253.7 MB 14.9 MB/s eta 0:00:05     |██████████████████████████████▏ | 298.7 MB 10.4 MB/s eta 0:00:02�██████████ | 306.5 MB 11.6 MB/s eta 0:00:01\n",
      "\u001b[?25hCollecting py4j==0.10.9.7\n",
      "  Using cached py4j-0.10.9.7-py2.py3-none-any.whl (200 kB)\n",
      "Building wheels for collected packages: pyspark\n",
      "  Building wheel for pyspark (setup.py) ... \u001b[?25ldone\n",
      "\u001b[?25h  Created wheel for pyspark: filename=pyspark-3.5.0-py2.py3-none-any.whl size=317425366 sha256=563bdc6b37f0ecab9a7f0ca4fbf5ecbaf27bfb34da80dd68bbfa4f025856c242\n",
      "  Stored in directory: /Users/aagar19/Library/Caches/pip/wheels/57/bd/14/ce9e21f2649298678d011fb8f71ed38ee70b42b94fef0be142\n",
      "Successfully built pyspark\n",
      "Installing collected packages: py4j, pyspark\n",
      "Successfully installed py4j-0.10.9.7 pyspark-3.5.0\n",
      "\u001b[33mWARNING: You are using pip version 21.2.4; however, version 23.3.2 is available.\n",
      "You should consider upgrading via the '/Library/Developer/CommandLineTools/usr/bin/python3 -m pip install --upgrade pip' command.\u001b[0m\n"
     ]
    }
   ],
   "source": [
    "!pip3 install pyspark"
   ]
  },
  {
   "cell_type": "code",
   "execution_count": null,
   "metadata": {},
   "outputs": [],
   "source": []
  },
  {
   "cell_type": "code",
   "execution_count": null,
   "metadata": {},
   "outputs": [],
   "source": []
  },
  {
   "cell_type": "code",
   "execution_count": null,
   "metadata": {},
   "outputs": [],
   "source": []
  },
  {
   "cell_type": "code",
   "execution_count": 3,
   "metadata": {},
   "outputs": [
    {
     "name": "stdout",
     "output_type": "stream",
     "text": [
      "zsh:1: /opt/homebrew/bin/pip3: bad interpreter: /opt/homebrew/opt/python@3.11/bin/python3.11: no such file or directory\n",
      "Defaulting to user installation because normal site-packages is not writeable\n",
      "Requirement already satisfied: pandas in /Users/aagar19/Library/Python/3.9/lib/python/site-packages (1.5.3)\n",
      "Requirement already satisfied: python-dateutil>=2.8.1 in /Users/aagar19/Library/Python/3.9/lib/python/site-packages (from pandas) (2.8.2)\n",
      "Requirement already satisfied: pytz>=2020.1 in /Users/aagar19/Library/Python/3.9/lib/python/site-packages (from pandas) (2022.7.1)\n",
      "Requirement already satisfied: numpy>=1.20.3 in /Users/aagar19/Library/Python/3.9/lib/python/site-packages (from pandas) (1.24.2)\n",
      "Requirement already satisfied: six>=1.5 in /Library/Developer/CommandLineTools/Library/Frameworks/Python3.framework/Versions/3.9/lib/python3.9/site-packages (from python-dateutil>=2.8.1->pandas) (1.15.0)\n",
      "\u001b[33mWARNING: You are using pip version 21.2.4; however, version 23.3.2 is available.\n",
      "You should consider upgrading via the '/Library/Developer/CommandLineTools/usr/bin/python3 -m pip install --upgrade pip' command.\u001b[0m\n"
     ]
    }
   ],
   "source": [
    "!pip3 install pandas"
   ]
  },
  {
   "cell_type": "code",
   "execution_count": null,
   "metadata": {},
   "outputs": [],
   "source": []
  },
  {
   "cell_type": "code",
   "execution_count": null,
   "metadata": {},
   "outputs": [],
   "source": []
  },
  {
   "cell_type": "code",
   "execution_count": null,
   "metadata": {},
   "outputs": [],
   "source": []
  },
  {
   "cell_type": "code",
   "execution_count": 1,
   "metadata": {},
   "outputs": [
    {
     "ename": "ModuleNotFoundError",
     "evalue": "No module named 'pandas'",
     "output_type": "error",
     "traceback": [
      "\u001b[0;31m---------------------------------------------------------------------------\u001b[0m",
      "\u001b[0;31mModuleNotFoundError\u001b[0m                       Traceback (most recent call last)",
      "Cell \u001b[0;32mIn[1], line 1\u001b[0m\n\u001b[0;32m----> 1\u001b[0m \u001b[38;5;28;01mimport\u001b[39;00m \u001b[38;5;21;01mpandas\u001b[39;00m \u001b[38;5;28;01mas\u001b[39;00m \u001b[38;5;21;01mpd\u001b[39;00m\n",
      "\u001b[0;31mModuleNotFoundError\u001b[0m: No module named 'pandas'"
     ]
    }
   ],
   "source": [
    "import pandas as pd"
   ]
  },
  {
   "cell_type": "code",
   "execution_count": null,
   "metadata": {},
   "outputs": [],
   "source": []
  },
  {
   "cell_type": "code",
   "execution_count": null,
   "metadata": {},
   "outputs": [],
   "source": []
  },
  {
   "cell_type": "code",
   "execution_count": null,
   "metadata": {},
   "outputs": [],
   "source": []
  },
  {
   "cell_type": "code",
   "execution_count": null,
   "metadata": {},
   "outputs": [],
   "source": []
  },
  {
   "cell_type": "code",
   "execution_count": null,
   "metadata": {},
   "outputs": [],
   "source": []
  },
  {
   "cell_type": "code",
   "execution_count": null,
   "metadata": {},
   "outputs": [],
   "source": []
  },
  {
   "cell_type": "code",
   "execution_count": null,
   "metadata": {},
   "outputs": [],
   "source": []
  },
  {
   "cell_type": "code",
   "execution_count": null,
   "metadata": {},
   "outputs": [],
   "source": []
  },
  {
   "cell_type": "code",
   "execution_count": null,
   "metadata": {},
   "outputs": [],
   "source": []
  },
  {
   "cell_type": "code",
   "execution_count": null,
   "metadata": {},
   "outputs": [],
   "source": []
  },
  {
   "cell_type": "code",
   "execution_count": 2,
   "metadata": {},
   "outputs": [],
   "source": [
    "from pyspark.conf import SparkConf "
   ]
  },
  {
   "cell_type": "code",
   "execution_count": null,
   "metadata": {},
   "outputs": [],
   "source": [
    "from pyspark.sql import HiveContext,SparkSession"
   ]
  },
  {
   "cell_type": "code",
   "execution_count": 15,
   "metadata": {},
   "outputs": [],
   "source": [
    "spark = SparkSession.builder.master(\"rp000053440\").getOrCreate()"
   ]
  },
  {
   "cell_type": "code",
   "execution_count": 16,
   "metadata": {},
   "outputs": [],
   "source": [
    "conf = spark.sparkContext._conf.setAll([ \\\n",
    "        ('spark.cores.max', '4'), \\\n",
    "        ('spark.executor.memory', '4g'), \\\n",
    "        ('spark.driver.memory', '8g'), \\\n",
    "        ('spark.executor.cores', '4'), \\\n",
    "        ('spark.executor.instances', '6'), \\\n",
    "        ('spark.app.names', 'TextApp'), \\\n",
    "        ('hive.metastore.uris', 'thrift://obdplusr.optum.com:11000'), \\\n",
    "        ('packages' ,'io.delta:delta-core_2.12:2.0.0' ), \\\n",
    "        ('spark.yarn.queue' , 'fabbdprd_q1') \\\n",
    "                                        \n",
    "                                       ])"
   ]
  },
  {
   "cell_type": "code",
   "execution_count": 17,
   "metadata": {},
   "outputs": [],
   "source": [
    "spark.sparkContext.stop()\n",
    "\n",
    "spark = SparkSession.builder.config(conf=conf).enableHiveSupport().getOrCreate()"
   ]
  },
  {
   "cell_type": "code",
   "execution_count": null,
   "metadata": {},
   "outputs": [],
   "source": []
  },
  {
   "cell_type": "markdown",
   "metadata": {},
   "source": [
    "## ODIN Bronze layer Schema ##"
   ]
  },
  {
   "cell_type": "markdown",
   "metadata": {},
   "source": [
    "###### All bronze layer Tables are available at below path: ######\n",
    "    /datalake/optum/optuminsight/health_at_scale/hive/datafiles/DNHI/bronze/"
   ]
  },
  {
   "cell_type": "markdown",
   "metadata": {},
   "source": [
    "##### READ ODIN dNHI diagCode file from bronze layer #####"
   ]
  },
  {
   "cell_type": "code",
   "execution_count": 25,
   "metadata": {},
   "outputs": [],
   "source": [
    "read_ODIN_DiagCodes = spark.read.parquet(\"/datalake/optum/optuminsight/health_at_scale/hive/datafiles/DNHI/bronze/diagnosis_code\")\n",
    "\n"
   ]
  },
  {
   "cell_type": "code",
   "execution_count": 26,
   "metadata": {},
   "outputs": [
    {
     "name": "stdout",
     "output_type": "stream",
     "text": [
      "root\n",
      " |-- DIAGNOSIS_KEY: decimal(38,0) (nullable = true)\n",
      " |-- CODE: string (nullable = true)\n",
      " |-- DECM_CODE: string (nullable = true)\n",
      " |-- EFF_DATE: date (nullable = true)\n",
      " |-- END_DATE: date (nullable = true)\n",
      " |-- CODE_DESC: string (nullable = true)\n",
      " |-- MDC_CODE: string (nullable = true)\n",
      " |-- MDC_CODE_DESC: string (nullable = true)\n",
      " |-- GENDER_SPECIFIC_CODE: string (nullable = true)\n",
      " |-- CATEGORY_DTL_CODE: string (nullable = true)\n",
      " |-- CATEGORY_DTL_CODE_DESC: string (nullable = true)\n",
      " |-- CATEGORY_GENL_CODE: string (nullable = true)\n",
      " |-- CATEGORY_GENL_CODE_DESC: string (nullable = true)\n",
      " |-- UPDATE_DATE: date (nullable = true)\n",
      " |-- UPDATE_PROCESS_ID: string (nullable = true)\n",
      " |-- DIAGNOSIS_FIRST_3_CODE: string (nullable = true)\n",
      " |-- DIAGNOSIS_FIRST_3_DESC: string (nullable = true)\n",
      " |-- DIAGNOSIS_FIRST_4_CODE: string (nullable = true)\n",
      " |-- DIAGNOSIS_FIRST_4_DESC: string (nullable = true)\n",
      " |-- DIAGNOSIS_FULL_DESC: string (nullable = true)\n",
      " |-- DIAGNOSIS_LONG_DESC: string (nullable = true)\n",
      " |-- ICD_VER_CD: string (nullable = true)\n",
      "\n"
     ]
    }
   ],
   "source": [
    "read_ODIN_DiagCodes.printSchema()"
   ]
  },
  {
   "cell_type": "code",
   "execution_count": 71,
   "metadata": {},
   "outputs": [
    {
     "name": "stdout",
     "output_type": "stream",
     "text": [
      "+-----------------+-----+---------+----------+----------+---------------------------------+--------+-------------------------------------------------+--------------------+-----------------+----------------------------------------------+------------------+--------------------------+-----------+-----------------+----------------------+-----------------------------------+----------------------+-----------------------------------+----------------------------------------------------+---------------------------------------------+----------+\n",
      "|DIAGNOSIS_KEY    |CODE |DECM_CODE|EFF_DATE  |END_DATE  |CODE_DESC                        |MDC_CODE|MDC_CODE_DESC                                    |GENDER_SPECIFIC_CODE|CATEGORY_DTL_CODE|CATEGORY_DTL_CODE_DESC                        |CATEGORY_GENL_CODE|CATEGORY_GENL_CODE_DESC   |UPDATE_DATE|UPDATE_PROCESS_ID|DIAGNOSIS_FIRST_3_CODE|DIAGNOSIS_FIRST_3_DESC             |DIAGNOSIS_FIRST_4_CODE|DIAGNOSIS_FIRST_4_DESC             |DIAGNOSIS_FULL_DESC                                 |DIAGNOSIS_LONG_DESC                          |ICD_VER_CD|\n",
      "+-----------------+-----+---------+----------+----------+---------------------------------+--------+-------------------------------------------------+--------------------+-----------------+----------------------------------------------+------------------+--------------------------+-----------+-----------------+----------------------+-----------------------------------+----------------------+-----------------------------------+----------------------------------------------------+---------------------------------------------+----------+\n",
      "|565551524940390  |87341|873.41   |2010-08-01|9999-12-31|OPEN WOUND CHEEK W/O MENTION COMP|09      |DISEASES & DISORDERS OF THE SKIN, SUBCUTANEOUS TI|null                |235              |OPEN WOUNDS OF HEAD; NECK; AND                |16                |INJURY AND POISONING      |2010-09-13 |rdmDiagnosis     |873                   |OTHER OPEN WOUND OF HEAD           |8734                  |OPEN WOUND OF FACE                 |OPEN WOUND OF CHEEK, WITHOUT MENTION OF COMPLICATION|OPEN WOUND CHEEK WITHOUT MENTION COMPLICATION|9         |\n",
      "|48575140939      |093  |093      |2012-02-01|2012-02-29|CARDIOVASCULAR SYPHILIS          |05      |DISEASES & DISORDERS OF THE CIRCULATORY SYSTEM   |null                |009              |DISEASES & DISORDERS OF THE CIRCULATORY SYSTEM|01                |INFECTIOUS & PARASITIC DIS|2012-03-16 |rdmDiagnosis     |093                   |CARDIOVASCULAR SYPHILIS            |null                  |null                               |CARDIOVASCULAR SYPHILIS                             |CARDIOVASCULAR SYPHILIS                      |9         |\n",
      "|51545453504297848|36652|36652    |2017-09-01|2017-09-30|UNKNOWN DIAGNOSIS                |00      |UNKNOWN MAJOR DIAGNOSTIC CATEGORY                |null                |null             |UNKNOWN MAJOR DIAGNOSTIC CATEGORY             |17                |OTHER CONDITIONS          |2017-10-15 |rdmDiagnosis     |366                   |UNKNOWN DIAGNOSIS                  |3665                  |UNKNOWN DIAGNOSIS                  |UNKNOWN DIAGNOSIS                                   |UNKNOWN DIAGNOSIS                            |10        |\n",
      "+-----------------+-----+---------+----------+----------+---------------------------------+--------+-------------------------------------------------+--------------------+-----------------+----------------------------------------------+------------------+--------------------------+-----------+-----------------+----------------------+-----------------------------------+----------------------+-----------------------------------+----------------------------------------------------+---------------------------------------------+----------+\n",
      "only showing top 3 rows\n",
      "\n"
     ]
    }
   ],
   "source": [
    "read_ODIN_DiagCodes.show(3,False)"
   ]
  },
  {
   "cell_type": "markdown",
   "metadata": {},
   "source": [
    "##### READ ODIN dNHI file structure ###"
   ]
  },
  {
   "cell_type": "code",
   "execution_count": 30,
   "metadata": {},
   "outputs": [
    {
     "name": "stdout",
     "output_type": "stream",
     "text": [
      "+-----------------+--------+\n",
      "|DIAGNOSIS_KEY    |MDC_CODE|\n",
      "+-----------------+--------+\n",
      "|565551524940390  |09      |\n",
      "|48575140939      |05      |\n",
      "|51545453504297848|00      |\n",
      "|50554854501      |00      |\n",
      "|55565748514328148|00      |\n",
      "+-----------------+--------+\n",
      "only showing top 5 rows\n",
      "\n"
     ]
    }
   ],
   "source": [
    "read_ODIN_DiagCodes.select(\"DIAGNOSIS_KEY\",\"MDC_CODE\").show(5,False)"
   ]
  },
  {
   "cell_type": "code",
   "execution_count": null,
   "metadata": {},
   "outputs": [],
   "source": []
  },
  {
   "cell_type": "code",
   "execution_count": null,
   "metadata": {},
   "outputs": [],
   "source": []
  },
  {
   "cell_type": "code",
   "execution_count": null,
   "metadata": {},
   "outputs": [],
   "source": []
  },
  {
   "cell_type": "markdown",
   "metadata": {},
   "source": [
    "## Kaplan Meier survival analysis on ODIN data ##"
   ]
  },
  {
   "cell_type": "code",
   "execution_count": 36,
   "metadata": {},
   "outputs": [],
   "source": [
    "cancer_km = spark.read.parquet(\"/datalake/optum/optuminsight/health_at_scale/hive/datafiles/DNHI/bronze/km_analysis_breast_cancer\")\n",
    "\n"
   ]
  },
  {
   "cell_type": "code",
   "execution_count": 38,
   "metadata": {},
   "outputs": [
    {
     "name": "stdout",
     "output_type": "stream",
     "text": [
      "root\n",
      " |-- NHI_INDIVIDUAL_ID: decimal(18,0) (nullable = true)\n",
      " |-- GENDER: string (nullable = true)\n",
      " |-- YEAR_OF_BIRTH: integer (nullable = true)\n",
      " |-- STATE_CODE: string (nullable = true)\n",
      " |-- lastProcDate: date (nullable = true)\n",
      " |-- date_of_death: string (nullable = true)\n",
      " |-- MON_YR_DEATH: string (nullable = true)\n",
      " |-- firstDiagnosisDate: date (nullable = true)\n",
      " |-- memberAge: long (nullable = true)\n",
      " |-- range: string (nullable = true)\n",
      " |-- dateofDeath: date (nullable = true)\n",
      " |-- time: double (nullable = true)\n",
      " |-- event: integer (nullable = true)\n",
      "\n"
     ]
    }
   ],
   "source": [
    "cancer_km.printSchema()"
   ]
  },
  {
   "cell_type": "code",
   "execution_count": null,
   "metadata": {},
   "outputs": [],
   "source": [
    "import matplotlib.pyplot as plt\n",
    "\n",
    "from lifelines import KaplanMeierFitter\n",
    "kmf = KaplanMeierFitter()"
   ]
  },
  {
   "cell_type": "code",
   "execution_count": 39,
   "metadata": {},
   "outputs": [],
   "source": [
    "df = cancer_kp.select(\"range\",\"time\",\"event\")"
   ]
  },
  {
   "cell_type": "code",
   "execution_count": null,
   "metadata": {},
   "outputs": [],
   "source": [
    "for group in groups:\n",
    "    group_data = df[df['range'] == group]\n",
    "    kmf.fit(group_data['time'],group_data['event'],label=group)\n",
    "    kmf.plot()\n",
    "    plt.legend(title = 'Group')\n",
    "    plt.xlabel('Time')\n",
    "    plt.ylabel('Survival Probability')"
   ]
  },
  {
   "cell_type": "code",
   "execution_count": null,
   "metadata": {},
   "outputs": [],
   "source": []
  },
  {
   "cell_type": "code",
   "execution_count": null,
   "metadata": {},
   "outputs": [],
   "source": []
  },
  {
   "cell_type": "code",
   "execution_count": null,
   "metadata": {},
   "outputs": [],
   "source": []
  },
  {
   "cell_type": "code",
   "execution_count": 35,
   "metadata": {},
   "outputs": [],
   "source": []
  },
  {
   "cell_type": "markdown",
   "metadata": {},
   "source": [
    "## Cohort of cancer drug adherence ##"
   ]
  },
  {
   "cell_type": "code",
   "execution_count": 75,
   "metadata": {},
   "outputs": [],
   "source": [
    "ndc = spark.read.parquet(\"/datalake/optum/optuminsight/health_at_scale/hive/datafiles/DNHI/membership/member_aggregates/member_rx_claim\")"
   ]
  },
  {
   "cell_type": "code",
   "execution_count": null,
   "metadata": {},
   "outputs": [],
   "source": []
  },
  {
   "cell_type": "code",
   "execution_count": null,
   "metadata": {},
   "outputs": [],
   "source": [
    "date_column='InvoiceDate'\n",
    "id_column='memberId'\n",
    "start_date='2022-01-01'\n",
    "freq = 'MS' ## cohort gap period"
   ]
  },
  {
   "cell_type": "code",
   "execution_count": 76,
   "metadata": {},
   "outputs": [
    {
     "name": "stdout",
     "output_type": "stream",
     "text": [
      "root\n",
      " |-- memberId: decimal(18,0) (nullable = true)\n",
      " |-- ndcKey: decimal(38,0) (nullable = true)\n",
      " |-- firstFillDate: date (nullable = true)\n",
      " |-- lastFillDate: date (nullable = true)\n",
      " |-- refilCount: long (nullable = true)\n",
      " |-- memberAge: long (nullable = true)\n",
      " |-- sourceType: string (nullable = true)\n",
      "\n"
     ]
    }
   ],
   "source": [
    "ndc.printSchema()"
   ]
  },
  {
   "cell_type": "code",
   "execution_count": 81,
   "metadata": {},
   "outputs": [
    {
     "name": "stdout",
     "output_type": "stream",
     "text": [
      "+-----------+-------------+-------------+------------+----------+---------+----------+\n",
      "|memberId   |ndcKey       |firstFillDate|lastFillDate|refilCount|memberAge|sourceType|\n",
      "+-----------+-------------+-------------+------------+----------+---------+----------+\n",
      "|33003284687|678770413901 |2022-05-24   |2022-05-24  |1         |67       |rx_clm    |\n",
      "|33003284687|7437279042375|2016-03-11   |2016-03-11  |1         |61       |rx_clm    |\n",
      "|33003284687|7470681944587|2022-05-29   |2022-11-10  |3         |67       |rx_clm    |\n",
      "|33003284687|7470681944937|2023-01-17   |2023-01-17  |1         |68       |rx_clm    |\n",
      "|33003284687|7470689042375|2016-04-25   |2016-10-18  |3         |61       |rx_clm    |\n",
      "|33003284687|7470689042739|2017-01-10   |2017-12-20  |9         |62       |rx_clm    |\n",
      "|33003284687|7470689043110|2018-03-16   |2018-03-16  |1         |63       |rx_clm    |\n",
      "|33003284687|7470689043187|2018-04-08   |2018-12-08  |4         |63       |rx_clm    |\n",
      "|33003284687|7470689043474|2019-02-20   |2019-10-16  |4         |64       |rx_clm    |\n",
      "|33003284687|7470689044209|2021-11-05   |2021-11-05  |1         |66       |rx_clm    |\n",
      "+-----------+-------------+-------------+------------+----------+---------+----------+\n",
      "only showing top 10 rows\n",
      "\n"
     ]
    }
   ],
   "source": [
    "ndc.show(10,False)"
   ]
  },
  {
   "cell_type": "code",
   "execution_count": 82,
   "metadata": {},
   "outputs": [],
   "source": [
    "ndc_cohort = ndc.filter(\"ndcKey == '7437279042375'\")"
   ]
  },
  {
   "cell_type": "code",
   "execution_count": 83,
   "metadata": {},
   "outputs": [
    {
     "data": {
      "text/plain": [
       "16339"
      ]
     },
     "execution_count": 83,
     "metadata": {},
     "output_type": "execute_result"
    }
   ],
   "source": [
    "ndc_cohort.count()"
   ]
  },
  {
   "cell_type": "code",
   "execution_count": 106,
   "metadata": {},
   "outputs": [],
   "source": [
    "ndc_cohort = ndc[['memberId','ndcKey', 'firstFillDate']].drop_duplicates()\n"
   ]
  },
  {
   "cell_type": "code",
   "execution_count": 85,
   "metadata": {},
   "outputs": [],
   "source": [
    "import pandas as pd\n",
    "import matplotlib.pyplot as plt\n",
    "import warnings\n",
    "import seaborn as sns\n",
    "from operator import attrgetter\n",
    "import matplotlib.colors as mcolors"
   ]
  },
  {
   "cell_type": "code",
   "execution_count": 97,
   "metadata": {},
   "outputs": [
    {
     "data": {
      "text/plain": [
       "pyspark.sql.dataframe.DataFrame"
      ]
     },
     "execution_count": 97,
     "metadata": {},
     "output_type": "execute_result"
    }
   ],
   "source": [
    "type(ndc_cohort)"
   ]
  },
  {
   "cell_type": "code",
   "execution_count": null,
   "metadata": {},
   "outputs": [],
   "source": [
    "ndc_cohort"
   ]
  },
  {
   "cell_type": "code",
   "execution_count": 103,
   "metadata": {},
   "outputs": [],
   "source": [
    "med_key = ndc_cohort.select('ndcKey')\n"
   ]
  },
  {
   "cell_type": "code",
   "execution_count": 107,
   "metadata": {},
   "outputs": [],
   "source": [
    "med_membrs = ndc_cohort.select('memberId')\n"
   ]
  },
  {
   "cell_type": "code",
   "execution_count": null,
   "metadata": {},
   "outputs": [],
   "source": []
  },
  {
   "cell_type": "code",
   "execution_count": null,
   "metadata": {},
   "outputs": [],
   "source": []
  }
 ],
 "metadata": {
  "kernelspec": {
   "display_name": "Python 3 (ipykernel)",
   "language": "python",
   "name": "python3"
  },
  "language_info": {
   "codemirror_mode": {
    "name": "ipython",
    "version": 3
   },
   "file_extension": ".py",
   "mimetype": "text/x-python",
   "name": "python",
   "nbconvert_exporter": "python",
   "pygments_lexer": "ipython3",
   "version": "3.12.1"
  }
 },
 "nbformat": 4,
 "nbformat_minor": 4
}
